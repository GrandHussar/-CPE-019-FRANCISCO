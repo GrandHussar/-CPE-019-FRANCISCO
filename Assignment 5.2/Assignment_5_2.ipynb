{
  "nbformat": 4,
  "nbformat_minor": 0,
  "metadata": {
    "colab": {
      "provenance": []
    },
    "kernelspec": {
      "name": "python3",
      "display_name": "Python 3"
    },
    "language_info": {
      "name": "python"
    }
  },
  "cells": [
    {
      "cell_type": "markdown",
      "source": [
        "Name: Luigi T. Francisco <br>\n",
        "Course and Section: CPE32S3<br>\n",
        "Date of Submission: 03/26/2024<br>\n",
        "Instructor: Engr. Roman Richard<br>"
      ],
      "metadata": {
        "id": "PFPhh5b6LXSQ"
      }
    },
    {
      "cell_type": "markdown",
      "source": [
        "In this assignment, you are task to build a multilayer perceptron model. The following are the requirements:\n",
        "\n",
        "* Choose any dataset\n",
        "* Explain the problem you are trying to solve\n",
        "* Create your own model\n",
        "* Evaluate the accuracy of your model\n"
      ],
      "metadata": {
        "id": "VyCV7SYIEegH"
      }
    },
    {
      "cell_type": "markdown",
      "source": [
        "In this activity I have chosen a ISOLET data set\n",
        "\n",
        "Background: It is a data set with records of letters being spoken twice. 150 people participated generating around 7800 samples but there are samples that were ommited due to difficulty of recording. The Data was already normalized by them since their purpose was also to develop neural networks and it is reported that there are no missing values in the databsae.\n",
        "\n",
        "The features are described in the paper by Cole and Fanty cited above.  The features include spectral coefficients; contour features, sonorant features, pre-sonorant features, and post-sonorant features.  Exact order of appearance of the features is not known(UCI Machine Learning Repository, n.d.).\n",
        "\n",
        "UCI Machine Learning Repository. (n.d.). https://archive.ics.uci.edu/dataset/54/isolet\n",
        "\n",
        "Cole, R. A., & Fanty, M. (1990). Spoken letter recognition. Research Gate. https://doi.org/10.3115/116580.116725"
      ],
      "metadata": {
        "id": "2HMqVDYKEnW6"
      }
    },
    {
      "cell_type": "markdown",
      "source": [
        "Data Pre-Processing Already Done by them\n",
        "\n",
        "* Finding Missing Values (UCI Machine Learning Repository, n.d.).\n",
        "* Normalizing the Data (Cole & Fanty, 1990).\n"
      ],
      "metadata": {
        "id": "2__6aq1-Ey2w"
      }
    },
    {
      "cell_type": "markdown",
      "source": [],
      "metadata": {
        "id": "BQpf-trHHDmu"
      }
    },
    {
      "cell_type": "code",
      "source": [
        "# I've imported some libraries that we already used\n",
        "import numpy as np\n",
        "import pandas as pd\n",
        "import matplotlib.pyplot as plt\n",
        "from sklearn.model_selection import train_test_split\n",
        "from tensorflow.keras.models import Sequential\n",
        "from tensorflow.keras.layers import Flatten, Dense, Activation"
      ],
      "metadata": {
        "id": "SU_8pBrtknOF"
      },
      "execution_count": 1,
      "outputs": []
    },
    {
      "cell_type": "code",
      "source": [
        "!pip install ucimlrepo # installation of this library so i can import datasets from ucimlrepo"
      ],
      "metadata": {
        "colab": {
          "base_uri": "https://localhost:8080/",
          "height": 0
        },
        "id": "ARXrYz7esqI-",
        "outputId": "cd2cc861-cc6b-4fc2-f353-743ecf6c48e8"
      },
      "execution_count": 2,
      "outputs": [
        {
          "output_type": "stream",
          "name": "stdout",
          "text": [
            "Requirement already satisfied: ucimlrepo in /usr/local/lib/python3.10/dist-packages (0.0.6)\n"
          ]
        }
      ]
    },
    {
      "cell_type": "code",
      "source": [
        "from ucimlrepo import fetch_ucirepo #function to fecth the data set\n",
        "\n",
        "# fetch dataset\n",
        "isolet = fetch_ucirepo(id=54)\n",
        "\n",
        "# data (as pandas dataframes)\n",
        "X = isolet.data.features\n",
        "y = isolet.data.targets\n",
        "\n",
        "# metadata\n",
        "print(isolet.metadata)\n",
        "\n",
        "# variable information\n",
        "print(isolet.variables)"
      ],
      "metadata": {
        "colab": {
          "base_uri": "https://localhost:8080/",
          "height": 0
        },
        "id": "rYJRI21ys0nV",
        "outputId": "da136f00-b3e5-4484-d937-d9363706dd29"
      },
      "execution_count": 3,
      "outputs": [
        {
          "output_type": "stream",
          "name": "stdout",
          "text": [
            "{'uci_id': 54, 'name': 'ISOLET', 'repository_url': 'https://archive.ics.uci.edu/dataset/54/isolet', 'data_url': 'https://archive.ics.uci.edu/static/public/54/data.csv', 'abstract': ' Goal: Predict which letter-name was spoken--a simple classification task.', 'area': 'Computer Science', 'tasks': ['Classification'], 'characteristics': ['Multivariate'], 'num_instances': 7797, 'num_features': 617, 'feature_types': ['Real'], 'demographics': [], 'target_col': ['class'], 'index_col': None, 'has_missing_values': 'no', 'missing_values_symbol': None, 'year_of_dataset_creation': 1991, 'last_updated': 'Fri Feb 16 2024', 'dataset_doi': '10.24432/C51G69', 'creators': ['Ron Cole', 'Mark Fanty'], 'intro_paper': {'title': 'Spoken letter recognition', 'authors': 'Fanty, M., Cole, R.', 'published_in': 'Advances in Neural Information Processing Systems 3', 'year': 1991, 'url': None, 'doi': None}, 'additional_info': {'summary': 'This data set was generated as follows. 150 subjects spoke the name of each letter of the alphabet twice. Hence, we have 52 training examples from each speaker. The speakers are grouped into sets of 30 speakers each, and are referred to as isolet1, isolet2, isolet3, isolet4, and isolet5. The data appears in isolet1+2+3+4.data in sequential order, first the speakers from isolet1, then isolet2, and so on.  The test set, isolet5, is a separate file.\\r\\n\\r\\nYou will note that 3 examples are missing.  I believe they were dropped due to difficulties in recording.\\r\\n\\r\\nI believe this is a good domain for a noisy, perceptual task.  It is also a very good domain for testing the scaling abilities of algorithms. For example, C4.5 on this domain is slower than backpropagation!\\r\\n\\r\\nI have formatted the data for C4.5 and provided a C4.5-style names file as well.', 'purpose': None, 'funded_by': None, 'instances_represent': None, 'recommended_data_splits': None, 'sensitive_data': None, 'preprocessing_description': None, 'variable_info': 'The features are described in the paper by Cole and Fanty cited above.  The features include spectral coefficients; contour features, sonorant features, pre-sonorant features, and post-sonorant features.  Exact order of appearance of the features is not known.', 'citation': None}}\n",
            "             name     role         type demographic description units  \\\n",
            "0      Attribute1  Feature   Continuous        None        None  None   \n",
            "1      Attribute2  Feature   Continuous        None        None  None   \n",
            "2      Attribute3  Feature   Continuous        None        None  None   \n",
            "3      Attribute4  Feature   Continuous        None        None  None   \n",
            "4      Attribute5  Feature   Continuous        None        None  None   \n",
            "..            ...      ...          ...         ...         ...   ...   \n",
            "613  Attribute614  Feature   Continuous        None        None  None   \n",
            "614  Attribute615  Feature   Continuous        None        None  None   \n",
            "615  Attribute616  Feature   Continuous        None        None  None   \n",
            "616  Attribute617  Feature   Continuous        None        None  None   \n",
            "617         class   Target  Categorical        None        None  None   \n",
            "\n",
            "    missing_values  \n",
            "0               no  \n",
            "1               no  \n",
            "2               no  \n",
            "3               no  \n",
            "4               no  \n",
            "..             ...  \n",
            "613             no  \n",
            "614             no  \n",
            "615             no  \n",
            "616             no  \n",
            "617             no  \n",
            "\n",
            "[618 rows x 7 columns]\n"
          ]
        }
      ]
    },
    {
      "cell_type": "code",
      "source": [
        "model = Sequential()\n",
        "X_Train,X_Test,y_Train,y_Test = train_test_split(X,y,test_size=0.3)\n",
        "X_Train = X_Train.astype('float32')\n",
        "X_Test = X_Test.astype('float32')\n",
        "\n",
        "print(\"Feature matrix:\", X_Train.shape)\n",
        "print(\"Target matrix:\", y_Train.shape)\n",
        "print(\"Feature matrix:\",X_Test.shape)\n",
        "print(\"Target matrix:\", y_Test.shape)"
      ],
      "metadata": {
        "colab": {
          "base_uri": "https://localhost:8080/",
          "height": 0
        },
        "id": "-2ahQ2wEtSdW",
        "outputId": "8e913db8-2c03-4724-9f79-5fe8e28cba7b"
      },
      "execution_count": 4,
      "outputs": [
        {
          "output_type": "stream",
          "name": "stdout",
          "text": [
            "Feature matrix: (5457, 617)\n",
            "Target matrix: (5457, 1)\n",
            "Feature matrix: (2340, 617)\n",
            "Target matrix: (2340, 1)\n"
          ]
        }
      ]
    },
    {
      "cell_type": "code",
      "source": [
        "# Form the Input, hidden, and output layers.\n",
        "#source for my layer activation :https://machinelearningmastery.com/choose-an-activation-function-for-deep-learning/\n",
        "model = Sequential([\n",
        "\tFlatten(input_shape=(617,1)), # i flattened it with 617,1 since its already a dataframe\n",
        "\t# dense layer 1\n",
        "\tDense(512, activation='relu'), # From the source above it said that the hidden layer when continous should be relu\n",
        "\t# dense layer 2\n",
        "\tDense(256, activation='relu'),\n",
        "\n",
        "  Dense(256, activation='relu'),\n",
        "  Dense(256, activation='relu'),\n",
        "\t# output layer\n",
        "\tDense(28, activation='softmax'), #Output function should be softmax if the output should be categorical\n",
        "])"
      ],
      "metadata": {
        "id": "oEwPu5FithFb"
      },
      "execution_count": 5,
      "outputs": []
    },
    {
      "cell_type": "code",
      "source": [
        "model.compile(optimizer='adam',\n",
        "\t\t\tloss='sparse_categorical_crossentropy',\n",
        "\t\t\tmetrics=['accuracy']) # This one is required, Adam\n"
      ],
      "metadata": {
        "id": "GKb_BQJ1tnXp"
      },
      "execution_count": 6,
      "outputs": []
    },
    {
      "cell_type": "markdown",
      "source": [
        "itdxer (https://stats.stackexchange.com/users/64943/itdxer), What is batch size in neural network?, URL (version: 2019-04-05): https://stats.stackexchange.com/q/153535\n",
        "\n",
        "From this source it seems that the higher that batch_size the more accurate the results would be"
      ],
      "metadata": {
        "id": "_F1ZGzn9HtvJ"
      }
    },
    {
      "cell_type": "code",
      "source": [
        "history = model.fit(X_Train, y_Train, epochs=10,batch_size=1500, validation_split=0.2)\n"
      ],
      "metadata": {
        "colab": {
          "base_uri": "https://localhost:8080/",
          "height": 0
        },
        "id": "FMjtlamct1x6",
        "outputId": "eb68485c-c9a2-4007-885f-a49676bd48c7"
      },
      "execution_count": 7,
      "outputs": [
        {
          "output_type": "stream",
          "name": "stdout",
          "text": [
            "Epoch 1/10\n",
            "3/3 [==============================] - 2s 219ms/step - loss: 3.2004 - accuracy: 0.1475 - val_loss: 2.7419 - val_accuracy: 0.3828\n",
            "Epoch 2/10\n",
            "3/3 [==============================] - 0s 97ms/step - loss: 2.4436 - accuracy: 0.4213 - val_loss: 1.8002 - val_accuracy: 0.5641\n",
            "Epoch 3/10\n",
            "3/3 [==============================] - 0s 117ms/step - loss: 1.4737 - accuracy: 0.6495 - val_loss: 1.0422 - val_accuracy: 0.7555\n",
            "Epoch 4/10\n",
            "3/3 [==============================] - 0s 116ms/step - loss: 0.8916 - accuracy: 0.7459 - val_loss: 0.8114 - val_accuracy: 0.7244\n",
            "Epoch 5/10\n",
            "3/3 [==============================] - 0s 97ms/step - loss: 0.6877 - accuracy: 0.7540 - val_loss: 0.6439 - val_accuracy: 0.7857\n",
            "Epoch 6/10\n",
            "3/3 [==============================] - 0s 116ms/step - loss: 0.5878 - accuracy: 0.8057 - val_loss: 0.5396 - val_accuracy: 0.7766\n",
            "Epoch 7/10\n",
            "3/3 [==============================] - 0s 124ms/step - loss: 0.4672 - accuracy: 0.8289 - val_loss: 0.4725 - val_accuracy: 0.8306\n",
            "Epoch 8/10\n",
            "3/3 [==============================] - 0s 98ms/step - loss: 0.3714 - accuracy: 0.8829 - val_loss: 0.4015 - val_accuracy: 0.8608\n",
            "Epoch 9/10\n",
            "3/3 [==============================] - 0s 115ms/step - loss: 0.3192 - accuracy: 0.8974 - val_loss: 0.3554 - val_accuracy: 0.8837\n",
            "Epoch 10/10\n",
            "3/3 [==============================] - 0s 114ms/step - loss: 0.2739 - accuracy: 0.9175 - val_loss: 0.3183 - val_accuracy: 0.9002\n"
          ]
        }
      ]
    },
    {
      "cell_type": "code",
      "source": [
        "history.history.keys()"
      ],
      "metadata": {
        "colab": {
          "base_uri": "https://localhost:8080/",
          "height": 0
        },
        "id": "PlCMCbF7u83J",
        "outputId": "6dc4a259-e01b-43f7-fb03-d869c7e98262"
      },
      "execution_count": 8,
      "outputs": [
        {
          "output_type": "execute_result",
          "data": {
            "text/plain": [
              "dict_keys(['loss', 'accuracy', 'val_loss', 'val_accuracy'])"
            ]
          },
          "metadata": {},
          "execution_count": 8
        }
      ]
    },
    {
      "cell_type": "code",
      "source": [
        "line1 = plt.plot(history.history['loss'],label='loss')\n",
        "line2 = plt.plot(history.history['val_loss'],label='val_loss')\n",
        "plt.legend()"
      ],
      "metadata": {
        "colab": {
          "base_uri": "https://localhost:8080/",
          "height": 447
        },
        "id": "KkbRuNy_u-mJ",
        "outputId": "ad90e976-23b6-4e60-9062-c641eb3e0f29"
      },
      "execution_count": 9,
      "outputs": [
        {
          "output_type": "execute_result",
          "data": {
            "text/plain": [
              "<matplotlib.legend.Legend at 0x7bcb1fab7be0>"
            ]
          },
          "metadata": {},
          "execution_count": 9
        },
        {
          "output_type": "display_data",
          "data": {
            "text/plain": [
              "<Figure size 640x480 with 1 Axes>"
            ],
            "image/png": "[encoded data removed]"
          },
          "metadata": {}
        }
      ]
    },
    {
      "cell_type": "code",
      "source": [
        "plt.plot(history.history['accuracy'])\n",
        "plt.plot(history.history['val_accuracy'])"
      ],
      "metadata": {
        "colab": {
          "base_uri": "https://localhost:8080/",
          "height": 447
        },
        "id": "Bx10pN8gvA4B",
        "outputId": "4da3ba33-207d-4459-8b3c-c56c9a5e2d05"
      },
      "execution_count": 10,
      "outputs": [
        {
          "output_type": "execute_result",
          "data": {
            "text/plain": [
              "[<matplotlib.lines.Line2D at 0x7bcb1cd37670>]"
            ]
          },
          "metadata": {},
          "execution_count": 10
        },
        {
          "output_type": "display_data",
          "data": {
            "text/plain": [
              "<Figure size 640x480 with 1 Axes>"
            ],
            "image/png": "[encoded data removed]"
          },
          "metadata": {}
        }
      ]
    },
    {
      "cell_type": "code",
      "source": [
        "# Find the accuracy of the model\n",
        "\n",
        "results = model.evaluate(X_Test, y_Test, verbose = 1)\n",
        "print('test loss, test acc:', results)\n"
      ],
      "metadata": {
        "colab": {
          "base_uri": "https://localhost:8080/",
          "height": 0
        },
        "id": "0a36DTfnGlpu",
        "outputId": "dfdbb7b5-7f27-458b-cc26-6b15940f0e0a"
      },
      "execution_count": 11,
      "outputs": [
        {
          "output_type": "stream",
          "name": "stdout",
          "text": [
            "74/74 [==============================] - 0s 3ms/step - loss: 0.3091 - accuracy: 0.9064\n",
            "test loss, test acc: [0.3090783357620239, 0.906410276889801]\n"
          ]
        }
      ]
    },
    {
      "cell_type": "markdown",
      "source": [
        "Evaluation of The Model:\n",
        "\n",
        "The Model performed realisticly and accurately with 90% as 70-90% is the industry standard for machine learning models(What Is a Good Accuracy Score in Machine Learning?, 2022). It is also observable that there are no significant drop in accuracy fron when the model is tested against the test data.\n",
        "\n",
        "\n",
        "\n",
        "Reference:\n",
        "What is a good accuracy score in Machine Learning? (2022, November 13). Deepchecks. https://deepchecks.com/question/what-is-a-good-accuracy-score-in-machine-learning/\n",
        "\n",
        "\n"
      ],
      "metadata": {
        "id": "ia3KFRoDJbBm"
      }
    }
  ]
}
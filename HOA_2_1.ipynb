{
  "cells": [
    {
      "cell_type": "markdown",
      "metadata": {
        "id": "5sAKWX0-Zkcu"
      },
      "source": [
        "Name: Luigi T. Francisco <br>\n",
        "Course and Section: CPE32S3<br>\n",
        "Date of Submission: 01/31/2024<br>\n",
        "Instructor: Engr. Roman Richard<br>\n",
        "\n",
        "### Working with Python and SQLite\n",
        "\n",
        "Objectives:<br>\n",
        "Use the sqlite3 module to interact with a SQL database.<br>\n",
        "Access data stored in SQLite using Python.<br>\n",
        "Describe the difference in interacting with data stored as a CSV file versus in SQLite.<br>\n",
        "Describe the benefits of accessing data using a database compared to a CSV file.<br>\n",
        "\n",
        "\n",
        "#### Required Resources\n",
        "1 PC with Internet access<br>\n",
        "Jupyter notebook<br>\n",
        "\n",
        "#### SQL refresh\n",
        "Very brief introduction to relational databases (temporary): http://searchsqlserver.techtarget.com/definition/relational-database</li>\n",
        "More videos on relational databases: https://www.youtube.com/watch?v=jyju2P-7hPA&list=PLAwxTw4SYaPm4R6j_wzVOCV9fJaiQDYx4</li>\n",
        "Introduction to SQL: http://www.w3schools.com/sql/sql_intro.asp</li>\n",
        "Working with SQLite via the command-line: https://www.sqlite.org/cli.html"
      ]
    },
    {
      "cell_type": "markdown",
      "metadata": {
        "id": "YOocYarjZkcx"
      },
      "source": [
        "#### Part 1: Python and SQL\n",
        "When you open a CSV in python, and assign it to a variable name, you are using your computers memory to save that variable. Accessing data from a database like SQL is not only more efficient, but also it allows you to subset and import only the parts of the data that you need.\n",
        "\n",
        "<b>The sqlite3 module</b><br>\n",
        "The sqlite3 module provides a straightforward interface for interacting with SQLite databases. A connection object is created using sqlite3.connect(); the connection must be closed at the end of the session with the .close() command. While the connection is open, any interactions with the database require you to make a cursor object with the .cursor() command. The cursor is then ready to perform all kinds of operations with .execute().\n",
        "\n",
        "<b>Step 1: Create a SQL connection to our SQLite database </b><br>\n",
        "Creating a new SQLite database is as simple as creating a connection using the sqlite3 module in the Python standard library. To establish a connection all you need to do is pass a file path to the connect(...) method in the sqlite3 module, and if the database represented by the file does not exists one will be created at that path."
      ]
    },
    {
      "cell_type": "code",
      "execution_count": null,
      "metadata": {
        "id": "87XnmiW4Zkcz"
      },
      "outputs": [],
      "source": [
        "import sqlite3\n",
        "con = sqlite3.connect('sqlite.db')"
      ]
    },
    {
      "cell_type": "markdown",
      "metadata": {
        "id": "fczcZpSSZkc1"
      },
      "source": [
        "You will find that in everyday database programming you will be constantly creating connections to your database, so it is a good idea to wrap this simple connection statement into a reusable generalized function."
      ]
    },
    {
      "cell_type": "code",
      "execution_count": null,
      "metadata": {
        "id": "VOE3UEM9Zkc2"
      },
      "outputs": [],
      "source": [
        "import os\n",
        "import sqlite3\n",
        "\n",
        "# create a default path to connect to and create (if necessary) a database\n",
        "# called 'database.sqlite3' in the same directory as this script\n",
        "DEFAULT_PATH = os.path.join('sqlite.db')\n",
        "\n",
        "def db_connect(db_path=DEFAULT_PATH):\n",
        "    con = sqlite3.connect(db_path)\n",
        "    return con"
      ]
    },
    {
      "cell_type": "markdown",
      "metadata": {
        "id": "pL8bfPHdZkc2"
      },
      "source": [
        "<b>Step 2: Create a table on the SQLite database </b><br>\n",
        "The code below creates a table on the sqlite.db database. The cursor() command is needed to make a cursor object to interact with the created database. The cursor is then ready to perform all kinds of operations with .execute(). The execute() command performs a query that creates a table using the parameters as shown. The commit() command\n",
        "\n",
        "In order to create database tables you need to have an idea of the structure of the data you are interested in storing. There are many design considerations that go into defining the tables of a relational database. To aid in the discussion of SQLite database programming with Python, we will be working off the premise that a database needs to be created for a fictitious book store that has the below data already collected on book sales.\n",
        "\n",
        "<table style=\"width:75%\">\n",
        "  <tr>\n",
        "    <th>Customer</th>\n",
        "    <th>Date</th>\n",
        "    <th>Product</th>\n",
        "      <th>Price</th>\n",
        "  </tr>\n",
        "  <tr>\n",
        "    <td>Allan Turing</td>\n",
        "    <td>2/22/1944</td>\n",
        "    <td>Introduction to Combinatorics</td>\n",
        "    <td>7.99</td>\n",
        "  </tr>\n",
        "  <tr>\n",
        "    <td>Donald Knuth</td>\n",
        "    <td>7/3/1967</td>\n",
        "    <td>A Guide to Writing Short Stories</td>\n",
        "    <td>17.99</td>\n",
        "  </tr>\n",
        "    <td>Donald Knuth</td>\n",
        "    <td>7/3/1967</td>\n",
        "    <td>Data Structures and Algorithms</td>\n",
        "    <td>11.99</td>\n",
        "   <tr>\n",
        "    <td>Edgar Codd</td>\n",
        "    <td>1/12/1969</td>\n",
        "    <td>Advanced Set Theory</td>\n",
        "    <td>16.99</td>\n",
        "  </tr>\n",
        "</table>\n",
        "Upon inspecting this data, it is evident that it contains information about customers, products, and orders. A common pattern in database design for transactional systems of this type are to break the orders into two additional tables, orders and line items (sometimes referred to as order details) to achieve greater normalization.\n",
        "\n",
        "Enter the SQL for creating the customers and products tables follows:"
      ]
    },
    {
      "cell_type": "code",
      "execution_count": null,
      "metadata": {
        "colab": {
          "base_uri": "https://localhost:8080/"
        },
        "id": "Mz34GA3LZkc2",
        "outputId": "731d2c8a-bb59-4db1-fc3f-074fe27642d1"
      },
      "outputs": [
        {
          "output_type": "execute_result",
          "data": {
            "text/plain": [
              "<sqlite3.Cursor at 0x7c05752c5240>"
            ]
          },
          "metadata": {},
          "execution_count": 3
        }
      ],
      "source": [
        "con = db_connect() # connect to the database\n",
        "cur = con.cursor() # instantiate a cursor object\n",
        "customers_sql = \"\"\"CREATE TABLE customers(id integer PRIMARY KEY, first_name text NOT NULL, last_name text NOT NULL)\"\"\"\n",
        "cur.execute(customers_sql)\n",
        "products_sql = \"\"\"CREATE TABLE products (id integer PRIMARY KEY,name text NOT NULL,price real NOT NULL)\"\"\"\n",
        "cur.execute(products_sql)"
      ]
    },
    {
      "cell_type": "markdown",
      "metadata": {
        "id": "KZ8bt3BoZkc3"
      },
      "source": [
        "The above code creates a connection object then uses it to instantiate a cursor object. The cursor object is used to execute SQL statements on the SQLite database.\n",
        "\n",
        "With the cursor created, we write the SQL to create the customers table, giving it a primary key along with a first and last name text field and assign it to a variable called customers_sql. Then we call the execute(...) method of the cursor object passing it the customers_sql variable. Similar steps were don for the products table.\n",
        "\n",
        "You can query the sqlite_master table, a built-in SQLite metadata table, to verify that the above commands were successful.\n",
        "\n",
        "To see all the tables in the currently connected database query the name column of the sqlite_master table where the type is equal to \"table\"."
      ]
    },
    {
      "cell_type": "code",
      "execution_count": null,
      "metadata": {
        "colab": {
          "base_uri": "https://localhost:8080/"
        },
        "id": "LUSk80spZkc3",
        "outputId": "7caac428-7f9c-4936-f14d-67d4ff5ba21e"
      },
      "outputs": [
        {
          "output_type": "stream",
          "name": "stdout",
          "text": [
            "[('customers',), ('products',)]\n"
          ]
        }
      ],
      "source": [
        "cur.execute(\"SELECT name FROM sqlite_master WHERE type='table'\")\n",
        "\n",
        "print(cur.fetchall())\n"
      ]
    },
    {
      "cell_type": "markdown",
      "metadata": {
        "id": "CvWoMj2AZkc4"
      },
      "source": [
        "To get a look at the schema of the tables query the sql column of the same table where the type is still \"table\" and the name is equal to \"customers\" and/or \"products\"."
      ]
    },
    {
      "cell_type": "code",
      "execution_count": null,
      "metadata": {
        "colab": {
          "base_uri": "https://localhost:8080/"
        },
        "id": "kXcqnHGpZkc5",
        "outputId": "960e0980-5da8-4558-c3f4-f9f36a3c82fe"
      },
      "outputs": [
        {
          "output_type": "stream",
          "name": "stdout",
          "text": [
            "CREATE TABLE customers(id integer PRIMARY KEY, first_name text NOT NULL, last_name text NOT NULL)\n"
          ]
        }
      ],
      "source": [
        "cur.execute(\"\"\"SELECT sql FROM sqlite_master WHERE type='table'AND name='customers'\"\"\")\n",
        "print(cur.fetchone()[0])"
      ]
    },
    {
      "cell_type": "markdown",
      "metadata": {
        "id": "UExtpg6ZZkc5"
      },
      "source": [
        "The next table to define will be the orders table which associates customers to orders via a foreign key and the date of their purchase. Since SQLite does not support an actual date/time data type (or data class to be consistent with the SQLite vernacular) all dates will be represented as text values."
      ]
    },
    {
      "cell_type": "code",
      "execution_count": null,
      "metadata": {
        "colab": {
          "base_uri": "https://localhost:8080/"
        },
        "id": "SbUZ-IJFZkc6",
        "outputId": "fcaba1c2-6987-4a3e-8ed5-194375450d01"
      },
      "outputs": [
        {
          "output_type": "execute_result",
          "data": {
            "text/plain": [
              "<sqlite3.Cursor at 0x7c05752c5240>"
            ]
          },
          "metadata": {},
          "execution_count": 6
        }
      ],
      "source": [
        "orders_sql = \"\"\"\n",
        "... CREATE TABLE orders (\n",
        "...     id integer PRIMARY KEY,\n",
        "...     date text NOT NULL,\n",
        "...     customer_id integer,\n",
        "...     FOREIGN KEY (customer_id) REFERENCES customers (id))\"\"\"\n",
        "cur.execute(orders_sql)"
      ]
    },
    {
      "cell_type": "markdown",
      "metadata": {
        "id": "LOFhBFloZkc6"
      },
      "source": [
        "The final table to define will be the line items table which gives a detailed accounting of the products in each order."
      ]
    },
    {
      "cell_type": "code",
      "execution_count": null,
      "metadata": {
        "colab": {
          "base_uri": "https://localhost:8080/"
        },
        "id": "ppEQE_OaZkc6",
        "outputId": "fe1bf722-44cc-4e0d-96da-1ac486396ac5"
      },
      "outputs": [
        {
          "output_type": "execute_result",
          "data": {
            "text/plain": [
              "<sqlite3.Cursor at 0x7c05752c5240>"
            ]
          },
          "metadata": {},
          "execution_count": 7
        }
      ],
      "source": [
        "lineitems_sql = \"\"\"\n",
        "... CREATE TABLE lineitems (\n",
        "...     id integer PRIMARY KEY,\n",
        "...     quantity integer NOT NULL,\n",
        "...     total real NOT NULL,\n",
        "...     product_id integer,\n",
        "...     order_id integer,\n",
        "...     FOREIGN KEY (product_id) REFERENCES products (id),\n",
        "...     FOREIGN KEY (order_id) REFERENCES orders (id))\"\"\"\n",
        "cur.execute(lineitems_sql)"
      ]
    },
    {
      "cell_type": "markdown",
      "metadata": {
        "id": "-sfmQghrZkc7"
      },
      "source": [
        "<b>Step 3: Loading the Data</b><br>\n",
        "In this section we will use INSERT to our sample data into the tables just created. A natural starting place would be to populate the products table first because without products we cannot have a sale and thus would not have the foreign keys to relate to the line items and orders. Looking at the sample data, we see that there are four products:\n",
        "\n",
        "1. Introduction to Combinatorics - 7.99\n",
        "2. A Guide to Writing Short Stories -17.99\n",
        "3. Data Structures and Algorithms - 11.99\n",
        "4. Advanced Set Theory - 16.99\n",
        "\n",
        "The workflow for executing INSERT statements is simply:\n",
        "\n",
        "1. Connect to the database<br>\n",
        "2. Create a cursor object<br>\n",
        "3. Write a parameterized insert SQL statement and store as a variable<br>\n",
        "4. Call the execute method on the cursor object passing it the sql variable and the values, as a tuple, to be inserted into the table<br><br>\n",
        "Given this general outline let us write some more code."
      ]
    },
    {
      "cell_type": "code",
      "execution_count": null,
      "metadata": {
        "id": "5whBnZywZkc7"
      },
      "outputs": [],
      "source": [
        "con = db_connect()\n",
        "cur = con.cursor()\n",
        "product_sql = \"INSERT INTO products (name, price) VALUES (?, ?)\"\n",
        "cur.execute(product_sql, ('Introduction to Combinatorics', 7.99))\n",
        "cur.execute(product_sql, ('A Guide to Writing Short Stories', 17.99))\n",
        "cur.execute(product_sql, ('Data Structures and Algorithms', 11.99))\n",
        "cur.execute(product_sql, ('Advanced Set Theory', 16.99))\n",
        "con.commit()"
      ]
    },
    {
      "cell_type": "markdown",
      "metadata": {
        "id": "X_tB9ZOXZkc9"
      },
      "source": [
        "The insert statement follows the standard SQL syntax except for the ? bit. The ?'s are actually placeholders in what is known as a \"parameterized query\".\n",
        "\n",
        "Parameterized queries are an important feature of essentially all database interfaces to modern high level programming languages such as the sqlite3 module in Python. This type of query serves to improve the efficiency of queries that are repeated several times. Perhaps more important, they also sanitize inputs that take the place of the ? placeholders which are passed in during the call to the execute method of the cursor object to prevent nefarious inputs leading to SQL injection."
      ]
    },
    {
      "cell_type": "markdown",
      "metadata": {
        "id": "oqTTWgV1Zkc9"
      },
      "source": [
        "To populate the remaining tables we are going to follow a slightly different pattern to change things up a bit. The workflow for each order, identified by a combination of customer first and last name and the purchase date, will be:\n",
        "\n",
        "1. Insert the new customer into the customers table and retrieve its primary key id\n",
        "2. Create an order entry based off the customer id and the purchase date then retrieve its primary key id\n",
        "3. For each product in the order determine its primary key id and create a line item entry associating the order and the product\n",
        "4. To make things simpler on ourselves let us do a quick look up of all our products. For now do not worry too much about the mechanics of the SELECT SQL statement as we will devote a section to it shortly."
      ]
    },
    {
      "cell_type": "code",
      "execution_count": null,
      "metadata": {
        "colab": {
          "base_uri": "https://localhost:8080/"
        },
        "id": "nxcCVFiFZkc9",
        "outputId": "2be738d2-d292-44a8-be9d-b7ade48e0658"
      },
      "outputs": [
        {
          "output_type": "stream",
          "name": "stdout",
          "text": [
            "Id   Product                            Price\n",
            "1    Introduction to Combinatorics       7.99\n",
            "2    A Guide to Writing Short Stories   17.99\n",
            "3    Data Structures and Algorithms     11.99\n",
            "4    Advanced Set Theory                16.99\n"
          ]
        }
      ],
      "source": [
        "cur.execute(\"SELECT id, name, price FROM products\")\n",
        "formatted_result = [f\"{id:<5}{name:<35}{price:>5}\" for id, name, price in cur.fetchall()]\n",
        "id, product, price = \"Id\", \"Product\", \"Price\"\n",
        "print('\\n'.join([f\"{id:<5}{product:<35}{price:>5}\"] + formatted_result))"
      ]
    },
    {
      "cell_type": "markdown",
      "metadata": {
        "id": "ZDDujBsuZkc9"
      },
      "source": [
        "The first order was placed on Feb 22, 1944 by Alan Turing who purchased Introduction to Combinatorics for $7.99.\n",
        "\n",
        "Start by making a new customer record for Mr. Turing then determine his primary key id by accessing the lastrowid field of the cursor object."
      ]
    },
    {
      "cell_type": "code",
      "execution_count": null,
      "metadata": {
        "colab": {
          "base_uri": "https://localhost:8080/"
        },
        "id": "tnkrtj4CZkc-",
        "outputId": "9ed2bf57-5252-4ec9-d34f-0b725b8e3e8c"
      },
      "outputs": [
        {
          "output_type": "stream",
          "name": "stdout",
          "text": [
            "1\n"
          ]
        }
      ],
      "source": [
        "customer_sql = \"INSERT INTO customers (first_name, last_name) VALUES (?, ?)\"\n",
        "cur.execute(customer_sql, ('Alan', 'Turing'))\n",
        "customer_id = cur.lastrowid\n",
        "print(customer_id)\n",
        "con.commit()"
      ]
    },
    {
      "cell_type": "markdown",
      "metadata": {
        "id": "TRQEKa46Zkc-"
      },
      "source": [
        "<b style=\"color:red;\">Task 1: Insert 3 more records on the customers table</b>\n",
        "<br>\n",
        "Insert the following records:\n",
        "1. Donald Knuth\n",
        "2. Edgar Codd\n",
        "3. Martin Forest\n"
      ]
    },
    {
      "cell_type": "code",
      "execution_count": null,
      "metadata": {
        "colab": {
          "base_uri": "https://localhost:8080/"
        },
        "id": "nCksaYFlZkc-",
        "outputId": "8567781e-81fd-49f1-be00-35901caf14a8"
      },
      "outputs": [
        {
          "output_type": "stream",
          "name": "stdout",
          "text": [
            "2\n",
            "3\n",
            "4\n",
            "[(1, 'Alan', 'Turing'), (2, 'Donald', 'Knuth'), (3, 'Edgar', 'Codd'), (4, 'Martin', 'Forest')]\n"
          ]
        }
      ],
      "source": [
        "#code here\n",
        "def deleteCustom():\n",
        "  cur.execute(\"DELETE FROM customers\")\n",
        "  print(cur.fetchall())\n",
        "def seeCustom():\n",
        "  cur.execute(\"SELECT * FROM customers\")\n",
        "  print(cur.fetchall())\n",
        "def addCustomer(firstname:str,lastname:str):\n",
        "  customer_sql = \"INSERT INTO customers (first_name, last_name) VALUES (?, ?)\"\n",
        "  cur.execute(customer_sql, (firstname, lastname))\n",
        "  customer_id = cur.lastrowid\n",
        "  print(customer_id)\n",
        "  con.commit()\n",
        "\n",
        "\n",
        "addCustomer(\"Donald\", \"Knuth\")\n",
        "addCustomer(\"Edgar\", \"Codd\")\n",
        "addCustomer(\"Martin\", \"Forest\")\n",
        "seeCustom()\n",
        "\n"
      ]
    },
    {
      "cell_type": "markdown",
      "metadata": {
        "id": "EQC_aruCZkc-"
      },
      "source": [
        "We can now create an order entry, collect the new order id value and associate it to a line item entry along with the product Mr. Turing ordered."
      ]
    },
    {
      "cell_type": "code",
      "execution_count": null,
      "metadata": {
        "colab": {
          "base_uri": "https://localhost:8080/"
        },
        "id": "sowZKuCqZkc-",
        "outputId": "06c8cca3-1ce1-44e9-c093-40bc6748959b"
      },
      "outputs": [
        {
          "output_type": "stream",
          "name": "stdout",
          "text": [
            "1\n"
          ]
        }
      ],
      "source": [
        "order_sql = \"INSERT INTO orders (date, customer_id) VALUES (?, ?)\"\n",
        "date = \"1944-02-22\" # ISO formatted date\n",
        "cur.execute(order_sql, (date, customer_id))\n",
        "order_id = cur.lastrowid\n",
        "print(order_id)\n",
        "con.commit()"
      ]
    },
    {
      "cell_type": "markdown",
      "metadata": {
        "id": "EI6xQIeKZkc-"
      },
      "source": [
        "<b style=\"color:red;\">Task 2: Insert 3 more records on the orders table</b>\n",
        "<br>\n",
        "Insert the following records:\n",
        "1. for Donald Knuth, date is 7/3/1967\n",
        "2. Edgar Codd, date is 1/12/1969\n",
        "3. Martin Forest, date is 1/15/2021"
      ]
    },
    {
      "cell_type": "code",
      "execution_count": null,
      "metadata": {
        "colab": {
          "base_uri": "https://localhost:8080/"
        },
        "id": "H0ch1DZEZkc-",
        "outputId": "d9d13f23-e424-479e-fe2b-37774a750d6f"
      },
      "outputs": [
        {
          "output_type": "stream",
          "name": "stdout",
          "text": [
            "2\n",
            "3\n",
            "4\n",
            "[(1, '1944-02-22', 1), (2, '1967-07-03', 2), (3, '1969-01-12', 3), (4, '2021-01-15', 4)]\n"
          ]
        }
      ],
      "source": [
        "# code here\n",
        "#con.rollback()\n",
        "def seeOrder():\n",
        "  cur.execute(\"SELECT * FROM orders\")\n",
        "  print(cur.fetchall())\n",
        "def deleteOrders():\n",
        "  cur.execute(\"DELETE FROM orders\")\n",
        "def addOrder(dateISO:str, customer_id:int):\n",
        "  order_sql = \"INSERT INTO orders (date, customer_id) VALUES (?, ?)\"\n",
        "  cur.execute(order_sql, (dateISO, customer_id))\n",
        "  order_id = cur.lastrowid\n",
        "  print(order_id)\n",
        "  con.commit()\n",
        "addOrder(\"1967-07-03\",2)\n",
        "addOrder(\"1969-01-12\",3)\n",
        "addOrder(\"2021-01-15\",4)\n",
        "seeOrder()\n",
        "\n"
      ]
    },
    {
      "cell_type": "markdown",
      "metadata": {
        "id": "Cz9TMu85Zkc-"
      },
      "source": [
        "Each order can be inserted into the lineitems as shown below."
      ]
    },
    {
      "cell_type": "code",
      "execution_count": null,
      "metadata": {
        "id": "xYKpu6MkZkc_"
      },
      "outputs": [],
      "source": [
        "li_sql = \"\"\"INSERT INTO lineitems\n",
        "...       (order_id, product_id, quantity, total)\n",
        "...     VALUES (?, ?, ?, ?)\"\"\"\n",
        "product_id = 1\n",
        "order_id = cur.lastrowid\n",
        "cur.execute(li_sql, (order_id, 1, 1, 7.99))\n",
        "con.commit()"
      ]
    },
    {
      "cell_type": "markdown",
      "metadata": {
        "id": "FeCRKpKYZkc_"
      },
      "source": [
        "The remaining records are loaded exactly the same except for the order made to Donald Knuth, which will receive two line item entries."
      ]
    },
    {
      "cell_type": "markdown",
      "metadata": {
        "id": "QB-_xmLOZkc_"
      },
      "source": [
        "<b style=\"color:red;\">Task 3: Insert 3 more records on the lineitems</b>\n",
        "<br>\n",
        "Insert the following records:\n",
        "1. for Donald Knuth, insert (order_id, 2, 2, 17.99)\n",
        "2. Edgar Codd, insert (order_id, 3, 3, 11.99)\n",
        "3. Martin Forest, insert (order_id, 4, 4, 10.99)"
      ]
    },
    {
      "cell_type": "code",
      "execution_count": null,
      "metadata": {
        "colab": {
          "base_uri": "https://localhost:8080/"
        },
        "id": "R3sgUPbTZkc_",
        "outputId": "e8c5b654-fb00-4bae-a3ec-71dfa3e3c38d"
      },
      "outputs": [
        {
          "output_type": "stream",
          "name": "stdout",
          "text": [
            "[(1, 1, 7.99, 1, 4), (2, 2, 17.99, 2, 1), (3, 3, 11.99, 3, 2), (4, 4, 10.99, 4, 3)]\n"
          ]
        }
      ],
      "source": [
        "#code here\n",
        "def seeLineItems():\n",
        "  cur.execute(\"SELECT * FROM lineitems\")\n",
        "  print(cur.fetchall())\n",
        "def deleteAllItems():\n",
        "  cur.execute(\"DELETE FROM lineitems\")\n",
        "def addLineItems(product_id:int,quantity:int,total:float):\n",
        "  li_sql = \"\"\"INSERT INTO lineitems (order_id, product_id, quantity, total) VALUES (?, ?, ?, ?)\"\"\"\n",
        "  order_id = cur.lastrowid\n",
        "  cur.execute(li_sql, (order_id,product_id,quantity,total))\n",
        "  con.commit()\n",
        "\n",
        "\n",
        "addLineItems(2,2,17.99)\n",
        "addLineItems(3,3,11.99)\n",
        "addLineItems(4,4,10.99)\n",
        "\n",
        "seeLineItems()\n",
        "\n"
      ]
    },
    {
      "cell_type": "code",
      "source": [
        "#deleteAllItems()"
      ],
      "metadata": {
        "id": "ww7d5FE3gkIN"
      },
      "execution_count": null,
      "outputs": []
    },
    {
      "cell_type": "markdown",
      "metadata": {
        "id": "DAkGO5h5ZkdA"
      },
      "source": [
        "<b>Step 3: Querying the Database</b><br>\n",
        "\n",
        "Generally the most common action performed on a database is a retrieval of some of the data stored in it via a SELECT statement. For this section, we will be demonstrating how to use the sqlite3 interface to perform simple SELECT queries.\n",
        "\n",
        "To perform a basic multirow query of the customers table you pass a SELECT statement to the execute(...) method of the cursor object. After this you can iterate over the results of the query by calling the fetchall() method of the same cursor object."
      ]
    },
    {
      "cell_type": "code",
      "execution_count": null,
      "metadata": {
        "colab": {
          "base_uri": "https://localhost:8080/"
        },
        "id": "rVAPFMpgZkdA",
        "outputId": "f767e45a-b3cd-4d81-f372-46b786b93514"
      },
      "outputs": [
        {
          "output_type": "stream",
          "name": "stdout",
          "text": [
            "(1, 'Alan', 'Turing')\n",
            "(2, 'Donald', 'Knuth')\n",
            "(3, 'Edgar', 'Codd')\n",
            "(4, 'Martin', 'Forest')\n"
          ]
        }
      ],
      "source": [
        "cur.execute(\"SELECT * FROM customers\")\n",
        "results = cur.fetchall()\n",
        "for row in results:\n",
        "    print(row)"
      ]
    },
    {
      "cell_type": "markdown",
      "metadata": {
        "id": "xie8jij8ZkdC"
      },
      "source": [
        "Lets say you would like to instead just retrieve one record from the database. You can do this by writing a more specific query, say for Donald Knuth's id of 2, and following that up by calling fetchone() method of the cursor object."
      ]
    },
    {
      "cell_type": "code",
      "execution_count": null,
      "metadata": {
        "colab": {
          "base_uri": "https://localhost:8080/"
        },
        "id": "qMdx8dg8ZkdC",
        "outputId": "7b9ba139-bc27-4a0c-a526-897587182d7f"
      },
      "outputs": [
        {
          "output_type": "stream",
          "name": "stdout",
          "text": [
            "(2, 'Donald', 'Knuth')\n"
          ]
        }
      ],
      "source": [
        "cur.execute(\"SELECT id, first_name, last_name FROM customers WHERE id = 2\")\n",
        "result = cur.fetchone()\n",
        "print(result)"
      ]
    },
    {
      "cell_type": "markdown",
      "metadata": {
        "id": "w5_lGwMtZkdD"
      },
      "source": [
        "See how the individual row of each result is in the form of a tuple? Well while tuples are a very useful Pythonic data structure for some programming use cases many people find them a bit hindering when it comes to the task of data retrieval. It just so happens that there is a way to represent the data in a way that is perhaps more flexible to some. All you need to do is set the row_factory method of the connection object to something more suitable such as sqlite3.Row. This will give you the ability to access the individual items of a row by position or keyword value."
      ]
    },
    {
      "cell_type": "code",
      "execution_count": null,
      "metadata": {
        "colab": {
          "base_uri": "https://localhost:8080/"
        },
        "id": "EMJK2gPXZkdD",
        "outputId": "d512317e-2d04-49aa-92c7-bf438d5bcb7b"
      },
      "outputs": [
        {
          "output_type": "stream",
          "name": "stdout",
          "text": [
            "Customer: Alan Turing's id is 1\n"
          ]
        }
      ],
      "source": [
        "con.row_factory = sqlite3.Row\n",
        "cur = con.cursor()\n",
        "cur.execute(\"SELECT id, first_name, last_name FROM customers WHERE id = 1\")\n",
        "result = cur.fetchone()\n",
        "id, first_name, last_name = result['id'], result['first_name'], result['last_name']\n",
        "print(f\"Customer: {first_name} {last_name}'s id is {id}\")"
      ]
    },
    {
      "cell_type": "markdown",
      "metadata": {
        "id": "OVQYkm9TZkdE"
      },
      "source": [
        "<b style=\"color:red;\">Supplementary Activity:</b>\n",
        "1. Create a database and call it user.db\n",
        "2. Create a table named \"users\" and insert the following: (id int, name TEXT, email TEXT)\n",
        "3. Insert the following data: <br>\n",
        "(1, 'Jonathan','jvtaylar@gmail.com'),<br>\n",
        "(2, 'John','jonathan@gmail.com'),<br>\n",
        "(3,'cpeEncoders','encoders@gmail.com')<br>\n",
        "4. Select all data from users.\n",
        "5. Select id = 3 from users.\n",
        "6. Update user id = 3 name and set it to \"James.\"\n",
        "7. Insert the following data: (4, 'Cynthia','cynthia@gmail.com')\n",
        "8. Delete id = 4 from users.\n",
        "9. Display all contents in a formatted way."
      ]
    },
    {
      "cell_type": "code",
      "source": [
        "import sqlite3\n",
        "import os\n",
        "DEFAULT_PATH = os.path.join('user.db')\n",
        "con = db_connect()\n",
        "cur = con.cursor()"
      ],
      "metadata": {
        "id": "MScLWjk4hKNo"
      },
      "execution_count": null,
      "outputs": []
    },
    {
      "cell_type": "code",
      "source": [
        "cur.execute(\"CREATE TABLE users(id integer PRIMARY KEY, name TEXT NOT NULL, email TEXT NOT NULL )\")#2\n"
      ],
      "metadata": {
        "colab": {
          "base_uri": "https://localhost:8080/"
        },
        "id": "DEIj92eQhSQG",
        "outputId": "9026d31c-1af7-4e72-b80a-81a438daac4b"
      },
      "execution_count": null,
      "outputs": [
        {
          "output_type": "execute_result",
          "data": {
            "text/plain": [
              "<sqlite3.Cursor at 0x7c05760cfe40>"
            ]
          },
          "metadata": {},
          "execution_count": 20
        }
      ]
    },
    {
      "cell_type": "code",
      "source": [
        "cur.execute(\"SELECT name FROM sqlite_master WHERE type='table'\") # Verification\n",
        "\n",
        "print(cur.fetchall())"
      ],
      "metadata": {
        "colab": {
          "base_uri": "https://localhost:8080/"
        },
        "id": "5us6QUJmhuzW",
        "outputId": "1f2f4860-3757-4a8f-9454-8a3c4ec95cb9"
      },
      "execution_count": null,
      "outputs": [
        {
          "output_type": "stream",
          "name": "stdout",
          "text": [
            "[('customers',), ('products',), ('orders',), ('lineitems',), ('users',)]\n"
          ]
        }
      ]
    },
    {
      "cell_type": "code",
      "execution_count": null,
      "metadata": {
        "colab": {
          "base_uri": "https://localhost:8080/"
        },
        "id": "inDtUj8fZkdF",
        "outputId": "f10ea115-1512-4ef6-926c-362076ab2687"
      },
      "outputs": [
        {
          "output_type": "stream",
          "name": "stdout",
          "text": [
            "[(1, 'Jonathan', 'jvtaylar@gmail.com'), (2, 'John', 'jonathan@gmail.com'), (3, 'cpeEncoders', 'encoders@gmail.com')]\n"
          ]
        }
      ],
      "source": [
        "\n",
        "\n",
        "\n",
        "def addData(name:str,email:str):\n",
        "    sql =\"INSERT INTO users (name, email) VALUES (?, ?)\"\n",
        "    con.execute(sql,(name,email))\n",
        "    con.commit()\n",
        "def seeData():\n",
        "    sql = \"SELECT * FROM users\"\n",
        "    cur.execute(sql)\n",
        "    print(cur.fetchall())\n",
        "def deleteALLDATA():\n",
        "    cur.execute(\"DELETE FROM users\")\n",
        "addData(\"Jonathan\",\"jvtaylar@gmail.com\")\n",
        "addData(\"John\",\"jonathan@gmail.com\")\n",
        "addData(\"cpeEncoders\",\"encoders@gmail.com\")\n",
        "seeData() # 4"
      ]
    },
    {
      "cell_type": "code",
      "source": [
        "#cur.execute(\"DROP TABLE users\") when  i made a mistke"
      ],
      "metadata": {
        "id": "StItJEDul5rt"
      },
      "execution_count": null,
      "outputs": []
    },
    {
      "cell_type": "code",
      "source": [
        "cur.execute(\"SELECT * FROM users where id = 3\") # 5\n",
        "print(cur.fetchall())"
      ],
      "metadata": {
        "colab": {
          "base_uri": "https://localhost:8080/"
        },
        "id": "0C6NRtPnmHKn",
        "outputId": "00035d64-ffd1-4dcb-88eb-23e9e0879bad"
      },
      "execution_count": null,
      "outputs": [
        {
          "output_type": "stream",
          "name": "stdout",
          "text": [
            "[(3, 'cpeEncoders', 'encoders@gmail.com')]\n"
          ]
        }
      ]
    },
    {
      "cell_type": "code",
      "source": [
        "cur.execute(\"UPDATE users set name = 'James' where id = 3\")\n",
        "cur.execute(\"SELECT * FROM users where id = 3\") # 5\n",
        "print(cur.fetchall())#6"
      ],
      "metadata": {
        "colab": {
          "base_uri": "https://localhost:8080/"
        },
        "id": "S2MthnohmRRG",
        "outputId": "05215b20-f95b-4534-d2dc-370cacaa122a"
      },
      "execution_count": null,
      "outputs": [
        {
          "output_type": "stream",
          "name": "stdout",
          "text": [
            "[(3, 'James', 'encoders@gmail.com')]\n"
          ]
        }
      ]
    },
    {
      "cell_type": "code",
      "source": [
        "addData(\"Cynthia\",\"cynthia@gmailcom\")\n",
        "seeData()#7"
      ],
      "metadata": {
        "colab": {
          "base_uri": "https://localhost:8080/"
        },
        "id": "Ai1n24uemnHE",
        "outputId": "bfc79cac-b26b-4627-c4d7-5d1b0ac4621a"
      },
      "execution_count": null,
      "outputs": [
        {
          "output_type": "stream",
          "name": "stdout",
          "text": [
            "[(1, 'Jonathan', 'jvtaylar@gmail.com'), (2, 'John', 'jonathan@gmail.com'), (3, 'James', 'encoders@gmail.com'), (4, 'Cynthia', 'cynthia@gmailcom')]\n"
          ]
        }
      ]
    },
    {
      "cell_type": "code",
      "source": [
        "cur.execute(\"DELETE from users where id = 4\")\n",
        "seeData()#8"
      ],
      "metadata": {
        "colab": {
          "base_uri": "https://localhost:8080/"
        },
        "id": "LR_idu9zm148",
        "outputId": "93c36949-298b-46dd-d621-16b8b6290e0e"
      },
      "execution_count": null,
      "outputs": [
        {
          "output_type": "stream",
          "name": "stdout",
          "text": [
            "[(1, 'Jonathan', 'jvtaylar@gmail.com'), (2, 'John', 'jonathan@gmail.com'), (3, 'James', 'encoders@gmail.com')]\n"
          ]
        }
      ]
    },
    {
      "cell_type": "code",
      "source": [
        "def FormatSee():\n",
        "  cur.execute(\"SELECT id, name, email FROM users\")\n",
        "  formatted_result = [f\"{id:<5}{name:<35}{email:>5}\" for id, name, email in cur.fetchall()]\n",
        "  id, name,email = \"Id\", \"Name\", \"Email\"\n",
        "  print('\\n'.join([f\"{id:<5}{name:<35}{email:>5}\"] + formatted_result))\n",
        "FormatSee()"
      ],
      "metadata": {
        "colab": {
          "base_uri": "https://localhost:8080/"
        },
        "id": "2se-67mOnBDI",
        "outputId": "b247e5b1-ff68-4efa-f81b-9fcd160aefdb"
      },
      "execution_count": null,
      "outputs": [
        {
          "output_type": "stream",
          "name": "stdout",
          "text": [
            "Id   Name                               Email\n",
            "1    Jonathan                           jvtaylar@gmail.com\n",
            "2    John                               jonathan@gmail.com\n",
            "3    James                              encoders@gmail.com\n"
          ]
        }
      ]
    },
    {
      "cell_type": "markdown",
      "metadata": {
        "id": "vcbIJHpDZkdF"
      },
      "source": [
        "<b style=\"color:red;\">Conclusions/Observations:</b>\n"
      ]
    },
    {
      "cell_type": "markdown",
      "source": [
        "In performing this actvity, I was able to refresh my memory in using sql although the one i used was the one in XAMPP the maria db version. The activity had been quite mind grinding with the thought of squeezing knowledge i've known but not practiced that much. I've also observed that python utilization of sql and just plain using sql is very much different it feels like i'm throwing a bucket in a well when i'm using python to interact with a database unlike when its directly interacted with just like in XAMPP where a pump with a faucet is how that feels compared to this.\n",
        "\n",
        "My conclusion is performing SQL in a python environment should be done in functions since it's relatively redundant with most utilization just falls under Create, Read, Update, and Delete."
      ],
      "metadata": {
        "id": "uDkv8ygpn1nH"
      }
    }
  ],
  "metadata": {
    "kernelspec": {
      "display_name": "Python 3",
      "language": "python",
      "name": "python3"
    },
    "language_info": {
      "codemirror_mode": {
        "name": "ipython",
        "version": 3
      },
      "file_extension": ".py",
      "mimetype": "text/x-python",
      "name": "python",
      "nbconvert_exporter": "python",
      "pygments_lexer": "ipython3",
      "version": "3.7.7"
    },
    "colab": {
      "provenance": []
    }
  },
  "nbformat": 4,
  "nbformat_minor": 0
}